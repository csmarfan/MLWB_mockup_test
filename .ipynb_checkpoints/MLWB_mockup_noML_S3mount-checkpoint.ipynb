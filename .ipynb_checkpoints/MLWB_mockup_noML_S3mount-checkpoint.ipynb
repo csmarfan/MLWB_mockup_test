{
 "cells": [
  {
   "cell_type": "markdown",
   "metadata": {},
   "source": [
    "<font color='blue'>\n",
    "## Generate Vp and AI logs from Sonic and Density \n",
    "## - an example code without ML component\n",
    "## - in this example we used the package lasio to read las files. It requires a pip install if the package is not there"
   ]
  },
  {
   "cell_type": "markdown",
   "metadata": {},
   "source": [
    "## install lasio package to read las files; msgpack is required by lasio\n",
    "### either can install here or in the terminal"
   ]
  },
  {
   "cell_type": "code",
   "execution_count": 1,
   "metadata": {},
   "outputs": [
    {
     "name": "stdout",
     "output_type": "stream",
     "text": [
      "Requirement already satisfied: msgpack in c:\\apps\\anaconda\\lib\\site-packages (0.5.6)\n"
     ]
    },
    {
     "name": "stderr",
     "output_type": "stream",
     "text": [
      "You are using pip version 18.0, however version 18.1 is available.\n",
      "You should consider upgrading via the 'python -m pip install --upgrade pip' command.\n"
     ]
    },
    {
     "name": "stdout",
     "output_type": "stream",
     "text": [
      "Requirement already satisfied: lasio in c:\\apps\\anaconda\\lib\\site-packages (0.22)\n",
      "Requirement already satisfied: numpy in c:\\apps\\anaconda\\lib\\site-packages (from lasio) (1.14.3)\n",
      "Requirement already satisfied: ordereddict in c:\\apps\\anaconda\\lib\\site-packages (from lasio) (1.1)\n",
      "Requirement already satisfied: cchardet in c:\\apps\\anaconda\\lib\\site-packages (from lasio) (2.1.4)\n"
     ]
    },
    {
     "name": "stderr",
     "output_type": "stream",
     "text": [
      "You are using pip version 18.0, however version 18.1 is available.\n",
      "You should consider upgrading via the 'python -m pip install --upgrade pip' command.\n"
     ]
    },
    {
     "name": "stdout",
     "output_type": "stream",
     "text": [
      "Collecting awscli\n",
      "  Downloading https://files.pythonhosted.org/packages/c9/e7/ab100a4badf513c5ea15a0717e2abc78abd08fb6761391e1e3a0b048aba5/awscli-1.16.39-py2.py3-none-any.whl (1.4MB)\n",
      "Requirement already satisfied: colorama<=0.3.9,>=0.2.5 in c:\\apps\\anaconda\\lib\\site-packages (from awscli) (0.3.9)\n",
      "Requirement already satisfied: s3transfer<0.2.0,>=0.1.12 in c:\\apps\\anaconda\\lib\\site-packages (from awscli) (0.1.13)\n",
      "Requirement already satisfied: PyYAML<=3.13,>=3.10 in c:\\apps\\anaconda\\lib\\site-packages (from awscli) (3.12)\n",
      "Collecting botocore==1.12.29 (from awscli)\n",
      "  Downloading https://files.pythonhosted.org/packages/80/46/acc73473250b70bc5f9c2268865a7f6e84b08f8824726eb7badd8665ca91/botocore-1.12.29-py2.py3-none-any.whl (4.7MB)\n",
      "Collecting rsa<=3.5.0,>=3.1.2 (from awscli)\n",
      "  Downloading https://files.pythonhosted.org/packages/e1/ae/baedc9cb175552e95f3395c43055a6a5e125ae4d48a1d7a924baca83e92e/rsa-3.4.2-py2.py3-none-any.whl (46kB)\n",
      "Requirement already satisfied: docutils>=0.10 in c:\\apps\\anaconda\\lib\\site-packages (from awscli) (0.14)\n",
      "Requirement already satisfied: jmespath<1.0.0,>=0.7.1 in c:\\apps\\anaconda\\lib\\site-packages (from botocore==1.12.29->awscli) (0.9.3)\n",
      "Requirement already satisfied: python-dateutil<3.0.0,>=2.1; python_version >= \"2.7\" in c:\\apps\\anaconda\\lib\\site-packages (from botocore==1.12.29->awscli) (2.7.3)\n",
      "Requirement already satisfied: urllib3<1.25,>=1.20; python_version >= \"3.4\" in c:\\apps\\anaconda\\lib\\site-packages (from botocore==1.12.29->awscli) (1.22)\n",
      "Collecting pyasn1>=0.1.3 (from rsa<=3.5.0,>=3.1.2->awscli)\n",
      "  Downloading https://files.pythonhosted.org/packages/d1/a1/7790cc85db38daa874f6a2e6308131b9953feb1367f2ae2d1123bb93a9f5/pyasn1-0.4.4-py2.py3-none-any.whl (72kB)\n",
      "Requirement already satisfied: six>=1.5 in c:\\apps\\anaconda\\lib\\site-packages (from python-dateutil<3.0.0,>=2.1; python_version >= \"2.7\"->botocore==1.12.29->awscli) (1.11.0)\n",
      "Installing collected packages: botocore, pyasn1, rsa, awscli\n",
      "  Found existing installation: botocore 1.12.12\n",
      "    Uninstalling botocore-1.12.12:\n",
      "      Successfully uninstalled botocore-1.12.12\n",
      "Successfully installed awscli-1.16.39 botocore-1.12.29 pyasn1-0.4.4 rsa-3.4.2\n"
     ]
    },
    {
     "name": "stderr",
     "output_type": "stream",
     "text": [
      "You are using pip version 18.0, however version 18.1 is available.\n",
      "You should consider upgrading via the 'python -m pip install --upgrade pip' command.\n"
     ]
    }
   ],
   "source": [
    "!pip install msgpack\n",
    "!pip install lasio\n",
    "!pip install awscli"
   ]
  },
  {
   "cell_type": "markdown",
   "metadata": {},
   "source": [
    "## import packages"
   ]
  },
  {
   "cell_type": "code",
   "execution_count": null,
   "metadata": {},
   "outputs": [],
   "source": [
    "%%time\n",
    "import matplotlib.pyplot as plt\n",
    "import lasio\n",
    "\n",
    "import awscli\n",
    "import os\n",
    "import boto3\n",
    "#from sagemaker import get_execution_role\n",
    "\n",
    "#role = get_execution_role()\n",
    "#region = boto3.Session().region_name\n",
    "\n",
    "bucket='sdu-machine-learning'\n",
    "prefix = '/pphys/'\n",
    "\n",
    "#bucket_path = 'https://s3-{}.amazonaws.com/{}'.format(region,bucket)\n",
    "bucket_path = 's3://sdu-machine-learning'"
   ]
  },
  {
   "cell_type": "markdown",
   "metadata": {},
   "source": [
    "<font color='red'> \n",
    "## missing elements: \n",
    "## read data from SDU\n",
    "## How do we access data directly from S3? Some functions like lasio and geoio does not support this.  \n"
   ]
  },
  {
   "cell_type": "markdown",
   "metadata": {},
   "source": [
    "## As the lasio package can not read data directly from S3, we first download it to EC2 "
   ]
  },
  {
   "cell_type": "code",
   "execution_count": null,
   "metadata": {
    "scrolled": true
   },
   "outputs": [],
   "source": [
    "lasfile = 'GC110-1-SHELL.las'\n",
    "lasfile_s3 = bucket_path+prefix+lasfile\n",
    "#!aws s3 cp $lasfile_s3 input/"
   ]
  },
  {
   "cell_type": "markdown",
   "metadata": {},
   "source": [
    "## read input las file from EC2"
   ]
  },
  {
   "cell_type": "code",
   "execution_count": null,
   "metadata": {},
   "outputs": [],
   "source": [
    "# read las file\n",
    "lasfile_ec2 = '/home/ec2-user/input/'+lasfile\n",
    "las = lasio.read(lasfile_ec2)\n",
    "#las = lasio.read(lasfile_s3)"
   ]
  },
  {
   "cell_type": "markdown",
   "metadata": {},
   "source": [
    "## define new logs Vp and AI"
   ]
  },
  {
   "cell_type": "code",
   "execution_count": null,
   "metadata": {},
   "outputs": [],
   "source": [
    "las[\"Vp\"]=1000000/(las[\"DTC\"]*3.28084)\n",
    "las[\"AI\"]=las[\"Vp\"]*las[\"DEN\"]"
   ]
  },
  {
   "cell_type": "code",
   "execution_count": null,
   "metadata": {},
   "outputs": [],
   "source": [
    "# display the logs\n",
    "fig = plt.figure(figsize=(20,10))\n",
    "plt.subplot(141)\n",
    "plt.plot(las[\"GR\"],las[\"DEPT\"])\n",
    "plt.ylabel('MD (ft)')\n",
    "plt.title('GR')\n",
    "plt.gca().invert_yaxis()\n",
    "plt.subplot(142)\n",
    "plt.plot(las[\"DEN\"],las[\"DEPT\"])\n",
    "plt.title('Density (g/cm^3)')\n",
    "plt.gca().invert_yaxis()\n",
    "plt.subplot(143)\n",
    "plt.plot(las[\"Vp\"],las[\"DEPT\"])\n",
    "plt.gca().invert_yaxis()\n",
    "plt.title('Vp (m/s)')\n",
    "plt.subplot(144)\n",
    "plt.plot(las[\"AI\"],las[\"DEPT\"])\n",
    "plt.gca().invert_yaxis()\n",
    "plt.title('Acoustic Impedence (m.g/s.cm^3)')"
   ]
  },
  {
   "cell_type": "markdown",
   "metadata": {},
   "source": [
    "## save new data to EC2 output folder"
   ]
  },
  {
   "cell_type": "code",
   "execution_count": null,
   "metadata": {},
   "outputs": [],
   "source": [
    "# define output folder. if not exist create one\n",
    "outdir = 'output/'\n",
    "if not os.path.exists(outdir):\n",
    "    os.makedirs(outdir)\n",
    "\n",
    "fout = outdir+'GC110-1-SHELL_vpAI.las'\n",
    "las.write(fout, version=2.0)"
   ]
  },
  {
   "cell_type": "markdown",
   "metadata": {},
   "source": [
    "\n",
    "## copy the new data from EC2 drive to S3 bucket"
   ]
  },
  {
   "cell_type": "code",
   "execution_count": null,
   "metadata": {},
   "outputs": [],
   "source": [
    "#s3_path = bucket_path+prefix\n",
    "#!aws s3 cp $fout $s3_path\n",
    "#!aws s3 cp output/GC110-1-SHELL_vpAI.las s3://sdu-machine-learning/pphys/    "
   ]
  },
  {
   "cell_type": "markdown",
   "metadata": {},
   "source": [
    "<font color='red'> \n",
    "## missing element:\n",
    "## How do we publish data back to SDU?"
   ]
  },
  {
   "cell_type": "code",
   "execution_count": null,
   "metadata": {},
   "outputs": [],
   "source": []
  }
 ],
 "metadata": {
  "kernelspec": {
   "display_name": "Python 3",
   "language": "python",
   "name": "python3"
  },
  "language_info": {
   "codemirror_mode": {
    "name": "ipython",
    "version": 3
   },
   "file_extension": ".py",
   "mimetype": "text/x-python",
   "name": "python",
   "nbconvert_exporter": "python",
   "pygments_lexer": "ipython3",
   "version": "3.6.5"
  }
 },
 "nbformat": 4,
 "nbformat_minor": 2
}
