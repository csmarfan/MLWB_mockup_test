{
 "cells": [
  {
   "cell_type": "markdown",
   "metadata": {},
   "source": [
    "<font color='blue'>\n",
    "## Generate Vp and AI logs from Sonic and Density \n",
    "## - an example code without ML component\n",
    "## - in this example we used the package lasio to read las files. It requires a pip install if the package is not there"
   ]
  },
  {
   "cell_type": "markdown",
   "metadata": {},
   "source": [
    "## install lasio package to read las files; msgpack is required by lasio\n",
    "### either can install here or in the terminal"
   ]
  },
  {
   "cell_type": "code",
   "execution_count": null,
   "metadata": {},
   "outputs": [],
   "source": [
    "!pip install msgpack\n",
    "!pip install lasio\n",
    "!pip awscli"
   ]
  },
  {
   "cell_type": "markdown",
   "metadata": {},
   "source": [
    "## import packages"
   ]
  },
  {
   "cell_type": "code",
   "execution_count": null,
   "metadata": {},
   "outputs": [],
   "source": [
    "%%time\n",
    "import matplotlib.pyplot as plt\n",
    "import lasio\n",
    "\n",
    "import awscli\n",
    "import os\n",
    "import boto3\n",
    "from sagemaker import get_execution_role\n",
    "\n",
    "#role = get_execution_role()\n",
    "region = boto3.Session().region_name\n",
    "\n",
    "bucket='sdu-machine-learning'\n",
    "prefix = '/pphys/'\n",
    "\n",
    "#bucket_path = 'https://s3-{}.amazonaws.com/{}'.format(region,bucket)\n",
    "bucket_path = 's3://sdu-machine-learning'"
   ]
  },
  {
   "cell_type": "markdown",
   "metadata": {},
   "source": [
    "<font color='red'> \n",
    "## missing elements: \n",
    "## read data from SDU\n",
    "## How do we access data directly from S3? Some functions like lasio and geoio does not support this.  \n"
   ]
  },
  {
   "cell_type": "markdown",
   "metadata": {},
   "source": [
    "## As the lasio package can not read data directly from S3, we first download it to EC2 "
   ]
  },
  {
   "cell_type": "code",
   "execution_count": null,
   "metadata": {
    "scrolled": true
   },
   "outputs": [],
   "source": [
    "lasfile = 'GC110-1-SHELL.las'\n",
    "lasfile_s3 = bucket_path+prefix+lasfile\n",
    "!aws s3 cp $lasfile_s3 input/"
   ]
  },
  {
   "cell_type": "markdown",
   "metadata": {},
   "source": [
    "## read input las file from EC2"
   ]
  },
  {
   "cell_type": "code",
   "execution_count": null,
   "metadata": {},
   "outputs": [],
   "source": [
    "# read las file\n",
    "lasfile_ec2 = 'input/'+lasfile\n",
    "las = lasio.read(lasfile_ec2)\n",
    "#las = lasio.read(lasfile_s3)"
   ]
  },
  {
   "cell_type": "markdown",
   "metadata": {},
   "source": [
    "## define new logs Vp and AI"
   ]
  },
  {
   "cell_type": "code",
   "execution_count": null,
   "metadata": {},
   "outputs": [],
   "source": [
    "las[\"Vp\"]=1000000/(las[\"DTC\"]*3.28084)\n",
    "las[\"AI\"]=las[\"Vp\"]*las[\"DEN\"]"
   ]
  },
  {
   "cell_type": "code",
   "execution_count": null,
   "metadata": {},
   "outputs": [],
   "source": [
    "# display the logs\n",
    "fig = plt.figure(figsize=(20,10))\n",
    "plt.subplot(141)\n",
    "plt.plot(las[\"GR\"],las[\"DEPT\"])\n",
    "plt.ylabel('MD (ft)')\n",
    "plt.title('GR')\n",
    "plt.gca().invert_yaxis()\n",
    "plt.subplot(142)\n",
    "plt.plot(las[\"DEN\"],las[\"DEPT\"])\n",
    "plt.title('Density (g/cm^3)')\n",
    "plt.gca().invert_yaxis()\n",
    "plt.subplot(143)\n",
    "plt.plot(las[\"Vp\"],las[\"DEPT\"])\n",
    "plt.gca().invert_yaxis()\n",
    "plt.title('Vp (m/s)')\n",
    "plt.subplot(144)\n",
    "plt.plot(las[\"AI\"],las[\"DEPT\"])\n",
    "plt.gca().invert_yaxis()\n",
    "plt.title('Acoustic Impedence (m.g/s.cm^3)')"
   ]
  },
  {
   "cell_type": "markdown",
   "metadata": {},
   "source": [
    "## save new data to EC2 output folder"
   ]
  },
  {
   "cell_type": "code",
   "execution_count": null,
   "metadata": {},
   "outputs": [],
   "source": [
    "# define output folder. if not exist create one\n",
    "outdir = 'output/'\n",
    "if not os.path.exists(outdir):\n",
    "    os.makedirs(outdir)\n",
    "\n",
    "fout = outdir+'GC110-1-SHELL_vpAI.las'\n",
    "las.write(fout, version=2.0)"
   ]
  },
  {
   "cell_type": "markdown",
   "metadata": {},
   "source": [
    "\n",
    "## copy the new data from EC2 drive to S3 bucket"
   ]
  },
  {
   "cell_type": "code",
   "execution_count": null,
   "metadata": {},
   "outputs": [],
   "source": [
    "s3_path = bucket_path+prefix\n",
    "!aws s3 cp $fout $s3_path\n",
    "#!aws s3 cp output/GC110-1-SHELL_vpAI.las s3://sdu-machine-learning/pphys/    "
   ]
  },
  {
   "cell_type": "markdown",
   "metadata": {},
   "source": [
    "<font color='red'> \n",
    "## missing element:\n",
    "## How do we publish data back to SDU?"
   ]
  },
  {
   "cell_type": "code",
   "execution_count": null,
   "metadata": {},
   "outputs": [],
   "source": []
  }
 ],
 "metadata": {
  "kernelspec": {
   "display_name": "Python 3",
   "language": "python",
   "name": "python3"
  },
  "language_info": {
   "codemirror_mode": {
    "name": "ipython",
    "version": 3
   },
   "file_extension": ".py",
   "mimetype": "text/x-python",
   "name": "python",
   "nbconvert_exporter": "python",
   "pygments_lexer": "ipython3",
   "version": "3.6.5"
  }
 },
 "nbformat": 4,
 "nbformat_minor": 2
}
